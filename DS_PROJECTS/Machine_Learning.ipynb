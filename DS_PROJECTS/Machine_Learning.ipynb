{
 "cells": [
  {
   "cell_type": "markdown",
   "metadata": {},
   "source": [
    "# Machine Learning\n",
    "1) Machine Learning is a field of computer science that uses statistical techniques to analyze data and formulate hypotheses about the possible outcomes of experiments.\n",
    "2) step 1: import libraries\n",
    "3) step 2: clean data\n",
    "4) step 3: split data into training and testing sets\n",
    "5) step 4: create model\n",
    "6) step 5: train model (scikit-learn)\n",
    "7) step 6: Make predictions\n",
    "8) step 7: evaluate and improve predictions\n",
    "\n",
    "\n",
    "\n"
   ]
  },
  {
   "cell_type": "markdown",
   "metadata": {},
   "source": [
    "#Libraries Used\n",
    "1) numpy: for numerical computation\n",
    "2) pandas: for data manipulation\n",
    "3) matplotlib: for data visualization\n",
    "4) seaborn: for data visualization\n",
    "5) sklearn: for machine learning\n",
    "6) scikit-learn: for machine learning\n",
    "7) tensorflow: for machine learning\n",
    "8) keras: for machine learning\n",
    "9) tensorflow-gpu: for machine learning"
   ]
  },
  {
   "cell_type": "code",
   "execution_count": 51,
   "metadata": {},
   "outputs": [
    {
     "data": {
      "text/html": [
       "        <script type=\"text/javascript\">\n",
       "        window.PlotlyConfig = {MathJaxConfig: 'local'};\n",
       "        if (window.MathJax) {MathJax.Hub.Config({SVG: {font: \"STIX-Web\"}});}\n",
       "        if (typeof require !== 'undefined') {\n",
       "        require.undef(\"plotly\");\n",
       "        requirejs.config({\n",
       "            paths: {\n",
       "                'plotly': ['https://cdn.plot.ly/plotly-2.11.1.min']\n",
       "            }\n",
       "        });\n",
       "        require(['plotly'], function(Plotly) {\n",
       "            window._Plotly = Plotly;\n",
       "        });\n",
       "        }\n",
       "        </script>\n",
       "        "
      ]
     },
     "metadata": {},
     "output_type": "display_data"
    },
    {
     "data": {
      "text/html": [
       "        <script type=\"text/javascript\">\n",
       "        window.PlotlyConfig = {MathJaxConfig: 'local'};\n",
       "        if (window.MathJax) {MathJax.Hub.Config({SVG: {font: \"STIX-Web\"}});}\n",
       "        if (typeof require !== 'undefined') {\n",
       "        require.undef(\"plotly\");\n",
       "        requirejs.config({\n",
       "            paths: {\n",
       "                'plotly': ['https://cdn.plot.ly/plotly-2.11.1.min']\n",
       "            }\n",
       "        });\n",
       "        require(['plotly'], function(Plotly) {\n",
       "            window._Plotly = Plotly;\n",
       "        });\n",
       "        }\n",
       "        </script>\n",
       "        "
      ]
     },
     "metadata": {},
     "output_type": "display_data"
    }
   ],
   "source": [
    "import numpy as np\n",
    "import pandas as pd\n",
    "import matplotlib.pyplot as plt\n",
    "from matplotlib import dates\n",
    "import mplfinance as mpf\n",
    "%matplotlib inline\n",
    "import statsmodels.api as sm\n",
    "import seaborn as sns\n",
    "from sklearn.tree import DecisionTreeClassifier # Import Decision Tree Classifier, we will use this for the tree model\n",
    "from sklearn.model_selection import train_test_split # Import train_test_split function, to split our dataset\n",
    "from sklearn.metrics import accuracy_score # Import accuracy_score function, to calculate the accuracy of our model\n",
    "from sklearn import tree # Import tree module, we will use this for the tree model\n",
    "import joblib # Import joblib to save our model\n",
    "\n",
    "import chart_studio.plotly as py\n",
    "import plotly.express as px\n",
    "import plotly.graph_objects as go\n",
    "\n",
    "import cufflinks as cf # Connects Plotly to Pandas\n",
    "# Makes Plotly work in your Notebook\n",
    "from plotly.offline import download_plotlyjs, init_notebook_mode, plot, iplot\n",
    "init_notebook_mode(connected=True)\n",
    "cf.go_offline()\n",
    "\n",
    "import requests # Get URL data\n",
    "from bs4 import BeautifulSoup # Manipulate URL data\n",
    "import json\n",
    "from pandas import DataFrame as df"
   ]
  },
  {
   "cell_type": "code",
   "execution_count": 13,
   "metadata": {},
   "outputs": [
    {
     "data": {
      "text/plain": [
       "(18, 3)"
      ]
     },
     "execution_count": 13,
     "metadata": {},
     "output_type": "execute_result"
    }
   ],
   "source": [
    "music_df  = pd.read_csv('music.csv')\n",
    "music_df.shape\n",
    "#df.values"
   ]
  },
  {
   "cell_type": "code",
   "execution_count": 37,
   "metadata": {},
   "outputs": [],
   "source": [
    "X = music_df.drop(columns=['genre']) #Drop the genre column (input dataset)\n",
    "y = music_df['genre'] #Output dataset\n",
    "#70% or 80% to training and 3o% or 20% to testing\n",
    "X_train, X_test, y_train, y_test = train_test_split(X, y, test_size=0.2)\n",
    "#using a large percentage to test data drops the accuracy and is detrimental to the model also known as overfitting\n"
   ]
  },
  {
   "cell_type": "code",
   "execution_count": null,
   "metadata": {},
   "outputs": [],
   "source": [
    "# Create a decision tree classifier (Learning and Prediction Algorithm)\n",
    "model = DecisionTreeClassifier()\n",
    "model.fit(X_train, y_train) #Fit the model\n",
    "\n",
    "tree.export_graphviz(model, out_file='tree.dot', feature_names=X.columns)\n",
    "\n",
    "#joblib.dump(model, 'music-reccomender.joblib') #Save the model\n",
    "\n",
    "#predictions = model.predict(X_test) #Predict\n",
    "#predictions"
   ]
  },
  {
   "cell_type": "code",
   "execution_count": 39,
   "metadata": {},
   "outputs": [
    {
     "data": {
      "text/plain": [
       "1.0"
      ]
     },
     "execution_count": 39,
     "metadata": {},
     "output_type": "execute_result"
    }
   ],
   "source": [
    "#Measure accuracy of the model\n",
    "#split into train and test\n",
    "#70% or 80% to training and 3o% or 20% to testing\n",
    "\n",
    "score = accuracy_score(y_test, predictions)\n",
    "score\n"
   ]
  },
  {
   "cell_type": "code",
   "execution_count": 49,
   "metadata": {},
   "outputs": [
    {
     "name": "stderr",
     "output_type": "stream",
     "text": [
      "C:\\Users\\bello\\AppData\\Local\\Packages\\PythonSoftwareFoundation.Python.3.9_qbz5n2kfra8p0\\LocalCache\\local-packages\\Python39\\site-packages\\sklearn\\base.py:450: UserWarning:\n",
      "\n",
      "X does not have valid feature names, but DecisionTreeClassifier was fitted with feature names\n",
      "\n"
     ]
    },
    {
     "data": {
      "text/plain": [
       "array(['HipHop'], dtype=object)"
      ]
     },
     "execution_count": 49,
     "metadata": {},
     "output_type": "execute_result"
    }
   ],
   "source": [
    "#Persisting Models, Saving Models and Loading Models\n",
    "model = joblib.load('music-reccomender.joblib')\n",
    "predictions_model = model.predict([[21,1]])\n",
    "predictions_model\n"
   ]
  },
  {
   "cell_type": "code",
   "execution_count": null,
   "metadata": {},
   "outputs": [],
   "source": []
  }
 ],
 "metadata": {
  "interpreter": {
   "hash": "ed20040895bab2415935c1b7d171e09d64626352c0fd1adbb3efa91cb1b37d27"
  },
  "kernelspec": {
   "display_name": "Python 3.9.12 64-bit (windows store)",
   "language": "python",
   "name": "python3"
  },
  "language_info": {
   "codemirror_mode": {
    "name": "ipython",
    "version": 3
   },
   "file_extension": ".py",
   "mimetype": "text/x-python",
   "name": "python",
   "nbconvert_exporter": "python",
   "pygments_lexer": "ipython3",
   "version": "3.9.12"
  },
  "orig_nbformat": 4
 },
 "nbformat": 4,
 "nbformat_minor": 2
}
